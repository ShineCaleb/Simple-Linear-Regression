{
 "cells": [
  {
   "cell_type": "markdown",
   "id": "f3666dce",
   "metadata": {},
   "source": [
    "# Simple Linear Regression\n",
    "Build a simple linear regression model by performing EDA and do necessary transformations and select the best model using R or Python.\n",
    "\n",
    "Predict delivery time using sorting time "
   ]
  },
  {
   "cell_type": "markdown",
   "id": "4eb95167",
   "metadata": {},
   "source": [
    "## Import Libraries"
   ]
  },
  {
   "cell_type": "code",
   "execution_count": 1,
   "id": "7e5f23f4",
   "metadata": {},
   "outputs": [],
   "source": [
    "import pandas as pd\n",
    "import seaborn as sns\n",
    "from matplotlib import pyplot as plt\n",
    "\n",
    "import warnings\n",
    "warnings.filterwarnings(\"ignore\")"
   ]
  },
  {
   "cell_type": "markdown",
   "id": "bdc34e6c",
   "metadata": {},
   "source": [
    "## Import Data"
   ]
  },
  {
   "cell_type": "code",
   "execution_count": 2,
   "id": "f8f32835",
   "metadata": {},
   "outputs": [
    {
     "data": {
      "text/html": [
       "<div>\n",
       "<style scoped>\n",
       "    .dataframe tbody tr th:only-of-type {\n",
       "        vertical-align: middle;\n",
       "    }\n",
       "\n",
       "    .dataframe tbody tr th {\n",
       "        vertical-align: top;\n",
       "    }\n",
       "\n",
       "    .dataframe thead th {\n",
       "        text-align: right;\n",
       "    }\n",
       "</style>\n",
       "<table border=\"1\" class=\"dataframe\">\n",
       "  <thead>\n",
       "    <tr style=\"text-align: right;\">\n",
       "      <th></th>\n",
       "      <th>Delivery Time</th>\n",
       "      <th>Sorting Time</th>\n",
       "    </tr>\n",
       "  </thead>\n",
       "  <tbody>\n",
       "    <tr>\n",
       "      <th>0</th>\n",
       "      <td>21.00</td>\n",
       "      <td>10</td>\n",
       "    </tr>\n",
       "    <tr>\n",
       "      <th>1</th>\n",
       "      <td>13.50</td>\n",
       "      <td>4</td>\n",
       "    </tr>\n",
       "    <tr>\n",
       "      <th>2</th>\n",
       "      <td>19.75</td>\n",
       "      <td>6</td>\n",
       "    </tr>\n",
       "    <tr>\n",
       "      <th>3</th>\n",
       "      <td>24.00</td>\n",
       "      <td>9</td>\n",
       "    </tr>\n",
       "    <tr>\n",
       "      <th>4</th>\n",
       "      <td>29.00</td>\n",
       "      <td>10</td>\n",
       "    </tr>\n",
       "  </tbody>\n",
       "</table>\n",
       "</div>"
      ],
      "text/plain": [
       "   Delivery Time  Sorting Time\n",
       "0          21.00            10\n",
       "1          13.50             4\n",
       "2          19.75             6\n",
       "3          24.00             9\n",
       "4          29.00            10"
      ]
     },
     "execution_count": 2,
     "metadata": {},
     "output_type": "execute_result"
    }
   ],
   "source": [
    "Delivery_Data=pd.read_csv(\"C:\\\\ExcelR\\\\Assignments\\\\Simple Linear\\\\Data\\\\delivery_time.csv\")\n",
    "Delivery_Data.head()"
   ]
  },
  {
   "cell_type": "markdown",
   "id": "80a786e7",
   "metadata": {},
   "source": [
    "## Data Understanding"
   ]
  },
  {
   "cell_type": "code",
   "execution_count": 3,
   "id": "e7ecedcb",
   "metadata": {},
   "outputs": [
    {
     "name": "stdout",
     "output_type": "stream",
     "text": [
      "<class 'pandas.core.frame.DataFrame'>\n",
      "RangeIndex: 21 entries, 0 to 20\n",
      "Data columns (total 2 columns):\n",
      " #   Column         Non-Null Count  Dtype  \n",
      "---  ------         --------------  -----  \n",
      " 0   Delivery Time  21 non-null     float64\n",
      " 1   Sorting Time   21 non-null     int64  \n",
      "dtypes: float64(1), int64(1)\n",
      "memory usage: 464.0 bytes\n"
     ]
    }
   ],
   "source": [
    "Delivery_Data.info()"
   ]
  },
  {
   "cell_type": "markdown",
   "id": "1f69b19d",
   "metadata": {},
   "source": [
    "## Correlation Analysis"
   ]
  },
  {
   "cell_type": "code",
   "execution_count": 4,
   "id": "506958e5",
   "metadata": {
    "scrolled": true
   },
   "outputs": [
    {
     "data": {
      "text/html": [
       "<div>\n",
       "<style scoped>\n",
       "    .dataframe tbody tr th:only-of-type {\n",
       "        vertical-align: middle;\n",
       "    }\n",
       "\n",
       "    .dataframe tbody tr th {\n",
       "        vertical-align: top;\n",
       "    }\n",
       "\n",
       "    .dataframe thead th {\n",
       "        text-align: right;\n",
       "    }\n",
       "</style>\n",
       "<table border=\"1\" class=\"dataframe\">\n",
       "  <thead>\n",
       "    <tr style=\"text-align: right;\">\n",
       "      <th></th>\n",
       "      <th>Delivery Time</th>\n",
       "      <th>Sorting Time</th>\n",
       "    </tr>\n",
       "  </thead>\n",
       "  <tbody>\n",
       "    <tr>\n",
       "      <th>Delivery Time</th>\n",
       "      <td>1.000000</td>\n",
       "      <td>0.825997</td>\n",
       "    </tr>\n",
       "    <tr>\n",
       "      <th>Sorting Time</th>\n",
       "      <td>0.825997</td>\n",
       "      <td>1.000000</td>\n",
       "    </tr>\n",
       "  </tbody>\n",
       "</table>\n",
       "</div>"
      ],
      "text/plain": [
       "               Delivery Time  Sorting Time\n",
       "Delivery Time       1.000000      0.825997\n",
       "Sorting Time        0.825997      1.000000"
      ]
     },
     "execution_count": 4,
     "metadata": {},
     "output_type": "execute_result"
    }
   ],
   "source": [
    "Delivery_Data.corr()"
   ]
  },
  {
   "cell_type": "markdown",
   "id": "b6daac90",
   "metadata": {},
   "source": [
    "#### The features are positively corelated with correlation factor of 0.83"
   ]
  },
  {
   "cell_type": "markdown",
   "id": "cbaf6719",
   "metadata": {},
   "source": [
    "## Performimg Assumption Checks"
   ]
  },
  {
   "cell_type": "markdown",
   "id": "b0a4ee6a",
   "metadata": {},
   "source": [
    "### 1.Linearity Test"
   ]
  },
  {
   "cell_type": "code",
   "execution_count": 5,
   "id": "1850a762",
   "metadata": {},
   "outputs": [
    {
     "data": {
      "image/png": "[encoded data removed]",
      "text/plain": [
       "<Figure size 432x288 with 2 Axes>"
      ]
     },
     "metadata": {
      "needs_background": "light"
     },
     "output_type": "display_data"
    }
   ],
   "source": [
    "fig,axes=plt.subplots(1,2)\n",
    "plt.subplots_adjust(right=1.5)\n",
    "\n",
    "sns.scatterplot(x=\"Delivery Time\",y=\"Sorting Time\",data=Delivery_Data,ax=axes[0])\n",
    "axes[0].set_title(\"Delivery Time Vs Sorting Time\")\n",
    "\n",
    "sns.regplot(x=\"Delivery Time\",y=\"Sorting Time\",data=Delivery_Data,ax=axes[1])\n",
    "axes[1].set_title(\"Delivery Time Vs Sorting Time\")\n",
    "\n",
    "plt.show()"
   ]
  },
  {
   "cell_type": "markdown",
   "id": "f249a9fe",
   "metadata": {},
   "source": [
    "#### Linearity Test failed."
   ]
  },
  {
   "cell_type": "markdown",
   "id": "5fe5eb62",
   "metadata": {},
   "source": [
    "## 2. Normality Test"
   ]
  },
  {
   "cell_type": "code",
   "execution_count": 6,
   "id": "39eed3dc",
   "metadata": {},
   "outputs": [
    {
     "data": {
      "image/png": "[encoded data removed]",
      "text/plain": [
       "<Figure size 432x288 with 1 Axes>"
      ]
     },
     "metadata": {
      "needs_background": "light"
     },
     "output_type": "display_data"
    }
   ],
   "source": [
    "sns.distplot(a=Delivery_Data['Sorting Time'],hist=False)\n",
    "plt.show()"
   ]
  },
  {
   "cell_type": "markdown",
   "id": "024ea790",
   "metadata": {},
   "source": [
    "#### Normality Test Failed."
   ]
  },
  {
   "cell_type": "markdown",
   "id": "13d35a7e",
   "metadata": {},
   "source": [
    "#### 3. Multicollinearity is not applicable\n",
    "#### 4. No autoRegression"
   ]
  },
  {
   "cell_type": "markdown",
   "id": "d274278a",
   "metadata": {},
   "source": [
    "## Model Building"
   ]
  },
  {
   "cell_type": "code",
   "execution_count": 7,
   "id": "e6bcabeb",
   "metadata": {},
   "outputs": [],
   "source": [
    "import statsmodels.formula.api as smf"
   ]
  },
  {
   "cell_type": "code",
   "execution_count": 8,
   "id": "0c1bf686",
   "metadata": {},
   "outputs": [
    {
     "data": {
      "text/plain": [
       "Index(['Delivery Time', 'Sorting Time'], dtype='object')"
      ]
     },
     "execution_count": 8,
     "metadata": {},
     "output_type": "execute_result"
    }
   ],
   "source": [
    "Delivery_Data.columns"
   ]
  },
  {
   "cell_type": "code",
   "execution_count": 9,
   "id": "c93d559f",
   "metadata": {},
   "outputs": [],
   "source": [
    "Delivery_Data.columns=['Delivery_Time', 'Sorting_Time']"
   ]
  },
  {
   "cell_type": "code",
   "execution_count": 10,
   "id": "00a3efef",
   "metadata": {},
   "outputs": [
    {
     "data": {
      "text/plain": [
       "Intercept       6.582734\n",
       "Sorting_Time    1.649020\n",
       "dtype: float64"
      ]
     },
     "execution_count": 10,
     "metadata": {},
     "output_type": "execute_result"
    }
   ],
   "source": [
    "Linear_Model=smf.ols(formula=\"Delivery_Time~Sorting_Time\", data=Delivery_Data).fit()\n",
    "\n",
    "Linear_Model.params"
   ]
  },
  {
   "cell_type": "markdown",
   "id": "d941d813",
   "metadata": {},
   "source": [
    "## Model Testing"
   ]
  },
  {
   "cell_type": "code",
   "execution_count": 11,
   "id": "3671c5a1",
   "metadata": {},
   "outputs": [
    {
     "data": {
      "text/html": [
       "<div>\n",
       "<style scoped>\n",
       "    .dataframe tbody tr th:only-of-type {\n",
       "        vertical-align: middle;\n",
       "    }\n",
       "\n",
       "    .dataframe tbody tr th {\n",
       "        vertical-align: top;\n",
       "    }\n",
       "\n",
       "    .dataframe thead th {\n",
       "        text-align: right;\n",
       "    }\n",
       "</style>\n",
       "<table border=\"1\" class=\"dataframe\">\n",
       "  <thead>\n",
       "    <tr style=\"text-align: right;\">\n",
       "      <th></th>\n",
       "      <th>Sorting_Time</th>\n",
       "    </tr>\n",
       "  </thead>\n",
       "  <tbody>\n",
       "    <tr>\n",
       "      <th>0</th>\n",
       "      <td>5</td>\n",
       "    </tr>\n",
       "    <tr>\n",
       "      <th>1</th>\n",
       "      <td>10</td>\n",
       "    </tr>\n",
       "    <tr>\n",
       "      <th>2</th>\n",
       "      <td>15</td>\n",
       "    </tr>\n",
       "  </tbody>\n",
       "</table>\n",
       "</div>"
      ],
      "text/plain": [
       "   Sorting_Time\n",
       "0             5\n",
       "1            10\n",
       "2            15"
      ]
     },
     "execution_count": 11,
     "metadata": {},
     "output_type": "execute_result"
    }
   ],
   "source": [
    "Test=pd.DataFrame(data={'Sorting_Time':[5,10,15]})\n",
    "Test"
   ]
  },
  {
   "cell_type": "code",
   "execution_count": 12,
   "id": "c166eec2",
   "metadata": {},
   "outputs": [
    {
     "data": {
      "text/plain": [
       "0    14.827833\n",
       "1    23.072933\n",
       "2    31.318032\n",
       "dtype: float64"
      ]
     },
     "execution_count": 12,
     "metadata": {},
     "output_type": "execute_result"
    }
   ],
   "source": [
    "Linear_Model.predict(Test)"
   ]
  },
  {
   "cell_type": "markdown",
   "id": "a46df3fc",
   "metadata": {},
   "source": [
    "## Model Evaluation"
   ]
  },
  {
   "cell_type": "code",
   "execution_count": 13,
   "id": "9dab91b0",
   "metadata": {},
   "outputs": [
    {
     "data": {
      "text/html": [
       "<div>\n",
       "<style scoped>\n",
       "    .dataframe tbody tr th:only-of-type {\n",
       "        vertical-align: middle;\n",
       "    }\n",
       "\n",
       "    .dataframe tbody tr th {\n",
       "        vertical-align: top;\n",
       "    }\n",
       "\n",
       "    .dataframe thead th {\n",
       "        text-align: right;\n",
       "    }\n",
       "</style>\n",
       "<table border=\"1\" class=\"dataframe\">\n",
       "  <thead>\n",
       "    <tr style=\"text-align: right;\">\n",
       "      <th></th>\n",
       "      <th>Delivery_Time</th>\n",
       "      <th>Sorting_Time</th>\n",
       "      <th>Delivert_Time_Pred</th>\n",
       "      <th>Error</th>\n",
       "    </tr>\n",
       "  </thead>\n",
       "  <tbody>\n",
       "    <tr>\n",
       "      <th>0</th>\n",
       "      <td>21.00</td>\n",
       "      <td>10</td>\n",
       "      <td>23.072933</td>\n",
       "      <td>-2.072933</td>\n",
       "    </tr>\n",
       "    <tr>\n",
       "      <th>1</th>\n",
       "      <td>13.50</td>\n",
       "      <td>4</td>\n",
       "      <td>13.178814</td>\n",
       "      <td>0.321186</td>\n",
       "    </tr>\n",
       "    <tr>\n",
       "      <th>2</th>\n",
       "      <td>19.75</td>\n",
       "      <td>6</td>\n",
       "      <td>16.476853</td>\n",
       "      <td>3.273147</td>\n",
       "    </tr>\n",
       "    <tr>\n",
       "      <th>3</th>\n",
       "      <td>24.00</td>\n",
       "      <td>9</td>\n",
       "      <td>21.423913</td>\n",
       "      <td>2.576087</td>\n",
       "    </tr>\n",
       "    <tr>\n",
       "      <th>4</th>\n",
       "      <td>29.00</td>\n",
       "      <td>10</td>\n",
       "      <td>23.072933</td>\n",
       "      <td>5.927067</td>\n",
       "    </tr>\n",
       "  </tbody>\n",
       "</table>\n",
       "</div>"
      ],
      "text/plain": [
       "   Delivery_Time  Sorting_Time  Delivert_Time_Pred     Error\n",
       "0          21.00            10           23.072933 -2.072933\n",
       "1          13.50             4           13.178814  0.321186\n",
       "2          19.75             6           16.476853  3.273147\n",
       "3          24.00             9           21.423913  2.576087\n",
       "4          29.00            10           23.072933  5.927067"
      ]
     },
     "execution_count": 13,
     "metadata": {},
     "output_type": "execute_result"
    }
   ],
   "source": [
    "Evaluation=Delivery_Data\n",
    "Evaluation[\"Delivert_Time_Pred\"]=Linear_Model.predict(Delivery_Data)\n",
    "Evaluation[\"Error\"]=Evaluation[\"Delivery_Time\"]-Evaluation[\"Delivert_Time_Pred\"]\n",
    "Evaluation.head()"
   ]
  },
  {
   "cell_type": "markdown",
   "id": "195e7dff",
   "metadata": {},
   "source": [
    "### Homoscedasticity Check"
   ]
  },
  {
   "cell_type": "code",
   "execution_count": 14,
   "id": "14b8820d",
   "metadata": {
    "scrolled": true
   },
   "outputs": [
    {
     "data": {
      "image/png": "[encoded data removed]",
      "text/plain": [
       "<Figure size 432x288 with 1 Axes>"
      ]
     },
     "metadata": {
      "needs_background": "light"
     },
     "output_type": "display_data"
    }
   ],
   "source": [
    "plt.scatter(x=Evaluation[\"Sorting_Time\"],y=Evaluation[\"Error\"])\n",
    "plt.title(\"Sorting_Time Vs Error\")\n",
    "plt.show()"
   ]
  },
  {
   "cell_type": "markdown",
   "id": "00d213a2",
   "metadata": {},
   "source": [
    "#### Homoscedasticity Check failed"
   ]
  },
  {
   "cell_type": "markdown",
   "id": "713d5d89",
   "metadata": {},
   "source": [
    "### Residual Mean Across the fitted Line"
   ]
  },
  {
   "cell_type": "code",
   "execution_count": 15,
   "id": "9ead8ed3",
   "metadata": {},
   "outputs": [
    {
     "data": {
      "image/png": "[encoded data removed]",
      "text/plain": [
       "<Figure size 432x288 with 1 Axes>"
      ]
     },
     "metadata": {
      "needs_background": "light"
     },
     "output_type": "display_data"
    }
   ],
   "source": [
    "plt.scatter(x=Evaluation[\"Delivery_Time\"],y=Evaluation[\"Delivert_Time_Pred\"])\n",
    "plt.title('Actual O/P Vs Predicted O/p')\n",
    "plt.xlabel('Actual O/P')\n",
    "plt.ylabel('Predicted O/p')\n",
    "plt.show()"
   ]
  },
  {
   "cell_type": "markdown",
   "id": "8e865b2c",
   "metadata": {},
   "source": [
    "#### Variations between the values are high."
   ]
  },
  {
   "cell_type": "markdown",
   "id": "f547f1a8",
   "metadata": {},
   "source": [
    "## Model Optimization"
   ]
  },
  {
   "cell_type": "code",
   "execution_count": 16,
   "id": "eee4c8fb",
   "metadata": {},
   "outputs": [],
   "source": [
    "import numpy as np"
   ]
  },
  {
   "cell_type": "code",
   "execution_count": 17,
   "id": "51a8e5ff",
   "metadata": {},
   "outputs": [
    {
     "name": "stdout",
     "output_type": "stream",
     "text": [
      "R2 Score before Transformation    : 0.6822714748417231\n",
      "R2 score after Log Transformation : 0.6954434611324223\n",
      "R2 score after sqrt Transformation: 0.6958062276308671\n",
      "R2 score after cbrt Transformation: 0.6974182292354246\n"
     ]
    }
   ],
   "source": [
    "print(\"R2 Score before Transformation    :\",Linear_Model.rsquared)\n",
    "Linear_Model_Log=smf.ols(formula=\"Delivery_Time~np.log(Sorting_Time)\", data=Delivery_Data).fit()\n",
    "print(\"R2 score after Log Transformation :\",Linear_Model_Log.rsquared)\n",
    "Linear_Model_sqrt=smf.ols(formula=\"Delivery_Time~np.sqrt(Sorting_Time)\", data=Delivery_Data).fit()\n",
    "print(\"R2 score after sqrt Transformation:\",Linear_Model_sqrt.rsquared)\n",
    "Linear_Model_cbrt=smf.ols(formula=\"Delivery_Time~np.cbrt(Sorting_Time)\", data=Delivery_Data).fit()\n",
    "print(\"R2 score after cbrt Transformation:\",Linear_Model_cbrt.rsquared)"
   ]
  },
  {
   "cell_type": "code",
   "execution_count": 18,
   "id": "0189b1cf",
   "metadata": {},
   "outputs": [
    {
     "name": "stdout",
     "output_type": "stream",
     "text": [
      "R2 score after adding transformed data as new feature: 0.6974782613477317\n"
     ]
    }
   ],
   "source": [
    "Linear_Model_Mixed=smf.ols(formula=\"Delivery_Time~Sorting_Time+np.cbrt(Sorting_Time)\", data=Delivery_Data).fit()\n",
    "print(\"R2 score after adding transformed data as new feature:\",Linear_Model_Mixed.rsquared)"
   ]
  },
  {
   "cell_type": "markdown",
   "id": "3b7ad623",
   "metadata": {},
   "source": [
    "### Model Selection\n",
    "#### R2 score for model using transformed Data(Cube Root) is high compared to other models.Hence the model is choosen for deployment."
   ]
  },
  {
   "cell_type": "markdown",
   "id": "4ad878f6",
   "metadata": {},
   "source": [
    "### Model Deployment"
   ]
  },
  {
   "cell_type": "code",
   "execution_count": 19,
   "id": "7ca9e6cc",
   "metadata": {},
   "outputs": [],
   "source": [
    "from pickle import dump,load\n",
    "dump(Linear_Model_cbrt,open('Intel_On_Deliverytime.pkl','wb'))"
   ]
  },
  {
   "cell_type": "code",
   "execution_count": 20,
   "id": "4b8cac3b",
   "metadata": {},
   "outputs": [
    {
     "data": {
      "text/plain": [
       "0    15.382474\n",
       "1    22.390381\n",
       "2    27.306264\n",
       "dtype: float64"
      ]
     },
     "execution_count": 20,
     "metadata": {},
     "output_type": "execute_result"
    }
   ],
   "source": [
    "Loaded_Int=load(open('Intel_On_Deliverytime.pkl','rb'))\n",
    "Loaded_Int.predict(Test)"
   ]
  }
 ],
 "metadata": {
  "kernelspec": {
   "display_name": "Python 3 (ipykernel)",
   "language": "python",
   "name": "python3"
  },
  "language_info": {
   "codemirror_mode": {
    "name": "ipython",
    "version": 3
   },
   "file_extension": ".py",
   "mimetype": "text/x-python",
   "name": "python",
   "nbconvert_exporter": "python",
   "pygments_lexer": "ipython3",
   "version": "3.9.12"
  }
 },
 "nbformat": 4,
 "nbformat_minor": 5
}
