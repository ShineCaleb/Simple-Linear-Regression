{
 "cells": [
  {
   "cell_type": "markdown",
   "id": "ef495d51",
   "metadata": {},
   "source": [
    "# Simple Linear Regression 1\n",
    "Build a simple linear regression model by performing EDA and do necessary transformations and select the best model using R or Python.\n",
    "Salary_hike -> Build a prediction model for Salary_hike"
   ]
  },
  {
   "cell_type": "markdown",
   "id": "4eb95167",
   "metadata": {},
   "source": [
    "## Import Libraries"
   ]
  },
  {
   "cell_type": "code",
   "execution_count": 1,
   "id": "7e5f23f4",
   "metadata": {},
   "outputs": [],
   "source": [
    "import pandas as pd\n",
    "import seaborn as sns\n",
    "from matplotlib import pyplot as plt\n",
    "\n",
    "import warnings\n",
    "warnings.filterwarnings(\"ignore\")"
   ]
  },
  {
   "cell_type": "markdown",
   "id": "bdc34e6c",
   "metadata": {},
   "source": [
    "## Import Data"
   ]
  },
  {
   "cell_type": "code",
   "execution_count": 2,
   "id": "f8f32835",
   "metadata": {},
   "outputs": [
    {
     "data": {
      "text/html": [
       "<div>\n",
       "<style scoped>\n",
       "    .dataframe tbody tr th:only-of-type {\n",
       "        vertical-align: middle;\n",
       "    }\n",
       "\n",
       "    .dataframe tbody tr th {\n",
       "        vertical-align: top;\n",
       "    }\n",
       "\n",
       "    .dataframe thead th {\n",
       "        text-align: right;\n",
       "    }\n",
       "</style>\n",
       "<table border=\"1\" class=\"dataframe\">\n",
       "  <thead>\n",
       "    <tr style=\"text-align: right;\">\n",
       "      <th></th>\n",
       "      <th>YearsExperience</th>\n",
       "      <th>Salary</th>\n",
       "    </tr>\n",
       "  </thead>\n",
       "  <tbody>\n",
       "    <tr>\n",
       "      <th>0</th>\n",
       "      <td>1.1</td>\n",
       "      <td>39343.0</td>\n",
       "    </tr>\n",
       "    <tr>\n",
       "      <th>1</th>\n",
       "      <td>1.3</td>\n",
       "      <td>46205.0</td>\n",
       "    </tr>\n",
       "    <tr>\n",
       "      <th>2</th>\n",
       "      <td>1.5</td>\n",
       "      <td>37731.0</td>\n",
       "    </tr>\n",
       "    <tr>\n",
       "      <th>3</th>\n",
       "      <td>2.0</td>\n",
       "      <td>43525.0</td>\n",
       "    </tr>\n",
       "    <tr>\n",
       "      <th>4</th>\n",
       "      <td>2.2</td>\n",
       "      <td>39891.0</td>\n",
       "    </tr>\n",
       "  </tbody>\n",
       "</table>\n",
       "</div>"
      ],
      "text/plain": [
       "   YearsExperience   Salary\n",
       "0              1.1  39343.0\n",
       "1              1.3  46205.0\n",
       "2              1.5  37731.0\n",
       "3              2.0  43525.0\n",
       "4              2.2  39891.0"
      ]
     },
     "execution_count": 2,
     "metadata": {},
     "output_type": "execute_result"
    }
   ],
   "source": [
    "Salary_Data=pd.read_csv(\"C:\\\\ExcelR\\\\Assignments\\\\Simple Linear\\\\Data\\\\Salary_Data.csv\")\n",
    "Salary_Data.head()"
   ]
  },
  {
   "cell_type": "markdown",
   "id": "80a786e7",
   "metadata": {},
   "source": [
    "## Data Understanding"
   ]
  },
  {
   "cell_type": "code",
   "execution_count": 3,
   "id": "e7ecedcb",
   "metadata": {},
   "outputs": [
    {
     "name": "stdout",
     "output_type": "stream",
     "text": [
      "<class 'pandas.core.frame.DataFrame'>\n",
      "RangeIndex: 30 entries, 0 to 29\n",
      "Data columns (total 2 columns):\n",
      " #   Column           Non-Null Count  Dtype  \n",
      "---  ------           --------------  -----  \n",
      " 0   YearsExperience  30 non-null     float64\n",
      " 1   Salary           30 non-null     float64\n",
      "dtypes: float64(2)\n",
      "memory usage: 608.0 bytes\n"
     ]
    }
   ],
   "source": [
    "Salary_Data.info()"
   ]
  },
  {
   "cell_type": "markdown",
   "id": "1f69b19d",
   "metadata": {},
   "source": [
    "## Correlation Analysis"
   ]
  },
  {
   "cell_type": "code",
   "execution_count": 4,
   "id": "506958e5",
   "metadata": {
    "scrolled": true
   },
   "outputs": [
    {
     "data": {
      "text/html": [
       "<div>\n",
       "<style scoped>\n",
       "    .dataframe tbody tr th:only-of-type {\n",
       "        vertical-align: middle;\n",
       "    }\n",
       "\n",
       "    .dataframe tbody tr th {\n",
       "        vertical-align: top;\n",
       "    }\n",
       "\n",
       "    .dataframe thead th {\n",
       "        text-align: right;\n",
       "    }\n",
       "</style>\n",
       "<table border=\"1\" class=\"dataframe\">\n",
       "  <thead>\n",
       "    <tr style=\"text-align: right;\">\n",
       "      <th></th>\n",
       "      <th>YearsExperience</th>\n",
       "      <th>Salary</th>\n",
       "    </tr>\n",
       "  </thead>\n",
       "  <tbody>\n",
       "    <tr>\n",
       "      <th>YearsExperience</th>\n",
       "      <td>1.000000</td>\n",
       "      <td>0.978242</td>\n",
       "    </tr>\n",
       "    <tr>\n",
       "      <th>Salary</th>\n",
       "      <td>0.978242</td>\n",
       "      <td>1.000000</td>\n",
       "    </tr>\n",
       "  </tbody>\n",
       "</table>\n",
       "</div>"
      ],
      "text/plain": [
       "                 YearsExperience    Salary\n",
       "YearsExperience         1.000000  0.978242\n",
       "Salary                  0.978242  1.000000"
      ]
     },
     "execution_count": 4,
     "metadata": {},
     "output_type": "execute_result"
    }
   ],
   "source": [
    "Salary_Data.corr()"
   ]
  },
  {
   "cell_type": "markdown",
   "id": "b6daac90",
   "metadata": {},
   "source": [
    "#### The features are positively corelated with correlation factor of 0.97"
   ]
  },
  {
   "cell_type": "markdown",
   "id": "cbaf6719",
   "metadata": {},
   "source": [
    "## Performimg Assumption Checks"
   ]
  },
  {
   "cell_type": "markdown",
   "id": "b0a4ee6a",
   "metadata": {},
   "source": [
    "### 1.Linearity Test"
   ]
  },
  {
   "cell_type": "code",
   "execution_count": 5,
   "id": "1850a762",
   "metadata": {},
   "outputs": [
    {
     "data": {
      "image/png": "[encoded data removed]",
      "text/plain": [
       "<Figure size 432x288 with 2 Axes>"
      ]
     },
     "metadata": {
      "needs_background": "light"
     },
     "output_type": "display_data"
    }
   ],
   "source": [
    "fig,axes=plt.subplots(1,2)\n",
    "plt.subplots_adjust(right=2)\n",
    "\n",
    "sns.scatterplot(x=\"YearsExperience\",y=\"Salary\",data=Salary_Data,ax=axes[0])\n",
    "axes[0].set_title(\"YearsExperience Vs Salary\")\n",
    "\n",
    "sns.regplot(x=\"YearsExperience\",y=\"Salary\",data=Salary_Data,ax=axes[1])\n",
    "axes[1].set_title(\"YearsExperience Vs Salary\")\n",
    "\n",
    "plt.show()"
   ]
  },
  {
   "cell_type": "markdown",
   "id": "e0057103",
   "metadata": {},
   "source": [
    "#### Linearity test Passed"
   ]
  },
  {
   "cell_type": "markdown",
   "id": "3d1b8be0",
   "metadata": {},
   "source": [
    "### 2.Normality Test"
   ]
  },
  {
   "cell_type": "code",
   "execution_count": 6,
   "id": "53c7b735",
   "metadata": {},
   "outputs": [
    {
     "data": {
      "image/png": "[encoded data removed]",
      "text/plain": [
       "<Figure size 432x288 with 1 Axes>"
      ]
     },
     "metadata": {
      "needs_background": "light"
     },
     "output_type": "display_data"
    }
   ],
   "source": [
    "sns.kdeplot(x=\"YearsExperience\",data=Salary_Data)\n",
    "plt.show()"
   ]
  },
  {
   "cell_type": "markdown",
   "id": "c920437c",
   "metadata": {},
   "source": [
    "#### Normality test failed."
   ]
  },
  {
   "cell_type": "markdown",
   "id": "3a3ad651",
   "metadata": {},
   "source": [
    "#### 3. Multi-collinearity is not applicable\n",
    "#### 4. No Auto-Regression"
   ]
  },
  {
   "cell_type": "markdown",
   "id": "5dfa6f03",
   "metadata": {},
   "source": [
    "## Model Building"
   ]
  },
  {
   "cell_type": "code",
   "execution_count": 7,
   "id": "6f416dfe",
   "metadata": {},
   "outputs": [],
   "source": [
    "from sklearn.linear_model import LinearRegression\n",
    "\n",
    "X=Salary_Data[[\"YearsExperience\"]]\n",
    "y=(Salary_Data[[\"Salary\"]]).astype(int)\n",
    "Linear_model=LinearRegression().fit(X,y)"
   ]
  },
  {
   "cell_type": "code",
   "execution_count": 8,
   "id": "04fe5619",
   "metadata": {},
   "outputs": [
    {
     "data": {
      "text/plain": [
       "array([25792.20019867])"
      ]
     },
     "execution_count": 8,
     "metadata": {},
     "output_type": "execute_result"
    }
   ],
   "source": [
    "Linear_model.intercept_"
   ]
  },
  {
   "cell_type": "code",
   "execution_count": 9,
   "id": "80ca4d7c",
   "metadata": {},
   "outputs": [
    {
     "data": {
      "text/plain": [
       "array([[9449.96232146]])"
      ]
     },
     "execution_count": 9,
     "metadata": {},
     "output_type": "execute_result"
    }
   ],
   "source": [
    "Linear_model.coef_"
   ]
  },
  {
   "cell_type": "markdown",
   "id": "a13c9878",
   "metadata": {},
   "source": [
    "## Model Testing"
   ]
  },
  {
   "cell_type": "code",
   "execution_count": 10,
   "id": "af94c01c",
   "metadata": {},
   "outputs": [
    {
     "data": {
      "text/html": [
       "<div>\n",
       "<style scoped>\n",
       "    .dataframe tbody tr th:only-of-type {\n",
       "        vertical-align: middle;\n",
       "    }\n",
       "\n",
       "    .dataframe tbody tr th {\n",
       "        vertical-align: top;\n",
       "    }\n",
       "\n",
       "    .dataframe thead th {\n",
       "        text-align: right;\n",
       "    }\n",
       "</style>\n",
       "<table border=\"1\" class=\"dataframe\">\n",
       "  <thead>\n",
       "    <tr style=\"text-align: right;\">\n",
       "      <th></th>\n",
       "      <th>YearsExperience</th>\n",
       "    </tr>\n",
       "  </thead>\n",
       "  <tbody>\n",
       "    <tr>\n",
       "      <th>0</th>\n",
       "      <td>7.0</td>\n",
       "    </tr>\n",
       "    <tr>\n",
       "      <th>1</th>\n",
       "      <td>11.0</td>\n",
       "    </tr>\n",
       "    <tr>\n",
       "      <th>2</th>\n",
       "      <td>1.5</td>\n",
       "    </tr>\n",
       "  </tbody>\n",
       "</table>\n",
       "</div>"
      ],
      "text/plain": [
       "   YearsExperience\n",
       "0              7.0\n",
       "1             11.0\n",
       "2              1.5"
      ]
     },
     "execution_count": 10,
     "metadata": {},
     "output_type": "execute_result"
    }
   ],
   "source": [
    "Test=pd.DataFrame(data={\"YearsExperience\":[7,11,1.5]})\n",
    "Test"
   ]
  },
  {
   "cell_type": "code",
   "execution_count": 11,
   "id": "c46f5d6b",
   "metadata": {},
   "outputs": [
    {
     "data": {
      "text/html": [
       "<div>\n",
       "<style scoped>\n",
       "    .dataframe tbody tr th:only-of-type {\n",
       "        vertical-align: middle;\n",
       "    }\n",
       "\n",
       "    .dataframe tbody tr th {\n",
       "        vertical-align: top;\n",
       "    }\n",
       "\n",
       "    .dataframe thead th {\n",
       "        text-align: right;\n",
       "    }\n",
       "</style>\n",
       "<table border=\"1\" class=\"dataframe\">\n",
       "  <thead>\n",
       "    <tr style=\"text-align: right;\">\n",
       "      <th></th>\n",
       "      <th>0</th>\n",
       "    </tr>\n",
       "  </thead>\n",
       "  <tbody>\n",
       "    <tr>\n",
       "      <th>0</th>\n",
       "      <td>91941</td>\n",
       "    </tr>\n",
       "    <tr>\n",
       "      <th>1</th>\n",
       "      <td>129741</td>\n",
       "    </tr>\n",
       "    <tr>\n",
       "      <th>2</th>\n",
       "      <td>39967</td>\n",
       "    </tr>\n",
       "  </tbody>\n",
       "</table>\n",
       "</div>"
      ],
      "text/plain": [
       "        0\n",
       "0   91941\n",
       "1  129741\n",
       "2   39967"
      ]
     },
     "execution_count": 11,
     "metadata": {},
     "output_type": "execute_result"
    }
   ],
   "source": [
    "pd.DataFrame(Linear_model.predict(Test).astype(int))"
   ]
  },
  {
   "cell_type": "markdown",
   "id": "ba4ae43b",
   "metadata": {},
   "source": [
    "## Model Evaluation"
   ]
  },
  {
   "cell_type": "code",
   "execution_count": 12,
   "id": "670fc158",
   "metadata": {},
   "outputs": [
    {
     "data": {
      "text/html": [
       "<div>\n",
       "<style scoped>\n",
       "    .dataframe tbody tr th:only-of-type {\n",
       "        vertical-align: middle;\n",
       "    }\n",
       "\n",
       "    .dataframe tbody tr th {\n",
       "        vertical-align: top;\n",
       "    }\n",
       "\n",
       "    .dataframe thead th {\n",
       "        text-align: right;\n",
       "    }\n",
       "</style>\n",
       "<table border=\"1\" class=\"dataframe\">\n",
       "  <thead>\n",
       "    <tr style=\"text-align: right;\">\n",
       "      <th></th>\n",
       "      <th>YearsExperience</th>\n",
       "      <th>Salary</th>\n",
       "      <th>Predicted_Salary</th>\n",
       "      <th>Error</th>\n",
       "    </tr>\n",
       "  </thead>\n",
       "  <tbody>\n",
       "    <tr>\n",
       "      <th>0</th>\n",
       "      <td>1.1</td>\n",
       "      <td>39343.0</td>\n",
       "      <td>36187</td>\n",
       "      <td>-3156</td>\n",
       "    </tr>\n",
       "    <tr>\n",
       "      <th>1</th>\n",
       "      <td>1.3</td>\n",
       "      <td>46205.0</td>\n",
       "      <td>38077</td>\n",
       "      <td>-8128</td>\n",
       "    </tr>\n",
       "    <tr>\n",
       "      <th>2</th>\n",
       "      <td>1.5</td>\n",
       "      <td>37731.0</td>\n",
       "      <td>39967</td>\n",
       "      <td>2236</td>\n",
       "    </tr>\n",
       "    <tr>\n",
       "      <th>3</th>\n",
       "      <td>2.0</td>\n",
       "      <td>43525.0</td>\n",
       "      <td>44692</td>\n",
       "      <td>1167</td>\n",
       "    </tr>\n",
       "    <tr>\n",
       "      <th>4</th>\n",
       "      <td>2.2</td>\n",
       "      <td>39891.0</td>\n",
       "      <td>46582</td>\n",
       "      <td>6691</td>\n",
       "    </tr>\n",
       "  </tbody>\n",
       "</table>\n",
       "</div>"
      ],
      "text/plain": [
       "   YearsExperience   Salary  Predicted_Salary  Error\n",
       "0              1.1  39343.0             36187  -3156\n",
       "1              1.3  46205.0             38077  -8128\n",
       "2              1.5  37731.0             39967   2236\n",
       "3              2.0  43525.0             44692   1167\n",
       "4              2.2  39891.0             46582   6691"
      ]
     },
     "execution_count": 12,
     "metadata": {},
     "output_type": "execute_result"
    }
   ],
   "source": [
    "Evaluation=Salary_Data\n",
    "Evaluation[\"Predicted_Salary\"]=(Linear_model.predict(X)).astype(int)\n",
    "Evaluation[\"Error\"]=(Evaluation[\"Predicted_Salary\"]-Evaluation[\"Salary\"]).astype(int)\n",
    "Evaluation.head()"
   ]
  },
  {
   "cell_type": "code",
   "execution_count": 13,
   "id": "3933ee21",
   "metadata": {},
   "outputs": [
    {
     "data": {
      "image/png": "[encoded data removed]",
      "text/plain": [
       "<Figure size 360x360 with 1 Axes>"
      ]
     },
     "metadata": {
      "needs_background": "light"
     },
     "output_type": "display_data"
    }
   ],
   "source": [
    "fig=plt.figure(figsize=(5,5))\n",
    "plt.plot(Evaluation[\"YearsExperience\"],Evaluation[\"Predicted_Salary\"])\n",
    "plt.scatter(Evaluation[\"YearsExperience\"],Evaluation[\"Salary\"])\n",
    "plt.title(\"Comparing Actual and Predicted Values\")\n",
    "plt.show()"
   ]
  },
  {
   "cell_type": "markdown",
   "id": "d23670af",
   "metadata": {},
   "source": [
    "## Homoscadasticity Test"
   ]
  },
  {
   "cell_type": "code",
   "execution_count": 14,
   "id": "e5f2ff6b",
   "metadata": {},
   "outputs": [
    {
     "data": {
      "image/png": "[encoded data removed]",
      "text/plain": [
       "<Figure size 432x288 with 1 Axes>"
      ]
     },
     "metadata": {
      "needs_background": "light"
     },
     "output_type": "display_data"
    }
   ],
   "source": [
    "plt.scatter(x=\"YearsExperience\",y=\"Error\",data=Evaluation)\n",
    "plt.title(\"Years Of Experience VS Error\")\n",
    "plt.show()"
   ]
  },
  {
   "cell_type": "markdown",
   "id": "092c2b6d",
   "metadata": {},
   "source": [
    "#### Homoscadasticity Check failed"
   ]
  },
  {
   "cell_type": "markdown",
   "id": "fd38d3d2",
   "metadata": {},
   "source": [
    "### Residual Mean across Plotted Line"
   ]
  },
  {
   "cell_type": "code",
   "execution_count": 15,
   "id": "1aee73f4",
   "metadata": {},
   "outputs": [
    {
     "data": {
      "image/png": "[encoded data removed]",
      "text/plain": [
       "<Figure size 432x288 with 1 Axes>"
      ]
     },
     "metadata": {
      "needs_background": "light"
     },
     "output_type": "display_data"
    }
   ],
   "source": [
    "plt.scatter(x=\"Salary\",y=\"Predicted_Salary\",data=Evaluation)\n",
    "plt.title(\"Actual Output VS Predicted Output\")\n",
    "plt.xlabel(\"Actual Output\")\n",
    "plt.ylabel(\"Predicted Output\")\n",
    "plt.show()"
   ]
  },
  {
   "cell_type": "markdown",
   "id": "b96f453d",
   "metadata": {},
   "source": [
    "#### The variations in values are moderate."
   ]
  },
  {
   "cell_type": "markdown",
   "id": "4f657a78",
   "metadata": {},
   "source": [
    "## Model Optimization"
   ]
  },
  {
   "cell_type": "code",
   "execution_count": 16,
   "id": "b6b890aa",
   "metadata": {},
   "outputs": [],
   "source": [
    "import numpy as np\n",
    "\n",
    "X_Log=np.log(X)\n",
    "X_Sqrt=np.sqrt(X)\n",
    "X_Cbrt=np.cbrt(X)\n",
    "X_Inv=1/X"
   ]
  },
  {
   "cell_type": "code",
   "execution_count": 17,
   "id": "d6efaf34",
   "metadata": {},
   "outputs": [
    {
     "name": "stdout",
     "output_type": "stream",
     "text": [
      "R2 Score before Transformation    : 0.9569566641435086\n",
      "R2 score after Log Transformation : 0.853888882875697\n",
      "R2 score after sqrt Transformation: 0.9310009544993526\n",
      "R2 score after cbrt Transformation: 0.9113098800320786\n",
      "R2 score after Inv Transformation: 0.5885951068932685\n"
     ]
    }
   ],
   "source": [
    "print(\"R2 Score before Transformation    :\",Linear_model.score(X,y))\n",
    "\n",
    "Linear_Model_Log=LinearRegression().fit(X_Log,y)\n",
    "print(\"R2 score after Log Transformation :\",Linear_Model_Log.score(X_Log,y))\n",
    "\n",
    "Linear_Model_sqrt=LinearRegression().fit(X_Sqrt,y)\n",
    "print(\"R2 score after sqrt Transformation:\",Linear_Model_sqrt.score(X_Sqrt,y))\n",
    "\n",
    "Linear_Model_cbrt=LinearRegression().fit(X_Cbrt,y)\n",
    "print(\"R2 score after cbrt Transformation:\",Linear_Model_cbrt.score(X_Cbrt,y))\n",
    "\n",
    "Linear_Model_Inv=LinearRegression().fit(X_Inv,y)\n",
    "print(\"R2 score after Inv Transformation:\",Linear_Model_Inv.score(X_Inv,y))"
   ]
  },
  {
   "cell_type": "markdown",
   "id": "6e6cecdf",
   "metadata": {},
   "source": [
    "#### R2 scores has no improvement while using Data transformations."
   ]
  },
  {
   "cell_type": "markdown",
   "id": "8c891a3c",
   "metadata": {},
   "source": [
    "## Model Selection\n",
    "#### The R2 score for the base model is high compared to the model using tranformed data. Hence, The base model is chosen for deployment"
   ]
  },
  {
   "cell_type": "markdown",
   "id": "b10bd7b7",
   "metadata": {},
   "source": [
    "## Model Deployment"
   ]
  },
  {
   "cell_type": "code",
   "execution_count": 18,
   "id": "e28a919b",
   "metadata": {},
   "outputs": [],
   "source": [
    "from pickle import dump,load\n",
    "dump(Linear_model,open('Intel_On_Salary.pkl','wb'))"
   ]
  },
  {
   "cell_type": "code",
   "execution_count": 19,
   "id": "8f07479b",
   "metadata": {},
   "outputs": [
    {
     "data": {
      "text/html": [
       "<div>\n",
       "<style scoped>\n",
       "    .dataframe tbody tr th:only-of-type {\n",
       "        vertical-align: middle;\n",
       "    }\n",
       "\n",
       "    .dataframe tbody tr th {\n",
       "        vertical-align: top;\n",
       "    }\n",
       "\n",
       "    .dataframe thead th {\n",
       "        text-align: right;\n",
       "    }\n",
       "</style>\n",
       "<table border=\"1\" class=\"dataframe\">\n",
       "  <thead>\n",
       "    <tr style=\"text-align: right;\">\n",
       "      <th></th>\n",
       "      <th>0</th>\n",
       "    </tr>\n",
       "  </thead>\n",
       "  <tbody>\n",
       "    <tr>\n",
       "      <th>0</th>\n",
       "      <td>91941</td>\n",
       "    </tr>\n",
       "    <tr>\n",
       "      <th>1</th>\n",
       "      <td>129741</td>\n",
       "    </tr>\n",
       "    <tr>\n",
       "      <th>2</th>\n",
       "      <td>39967</td>\n",
       "    </tr>\n",
       "  </tbody>\n",
       "</table>\n",
       "</div>"
      ],
      "text/plain": [
       "        0\n",
       "0   91941\n",
       "1  129741\n",
       "2   39967"
      ]
     },
     "execution_count": 19,
     "metadata": {},
     "output_type": "execute_result"
    }
   ],
   "source": [
    "Loaded_Int=load(open('Intel_On_Salary.pkl','rb'))\n",
    "pd.DataFrame(Loaded_Int.predict(Test).astype(int))"
   ]
  }
 ],
 "metadata": {
  "kernelspec": {
   "display_name": "Python 3 (ipykernel)",
   "language": "python",
   "name": "python3"
  },
  "language_info": {
   "codemirror_mode": {
    "name": "ipython",
    "version": 3
   },
   "file_extension": ".py",
   "mimetype": "text/x-python",
   "name": "python",
   "nbconvert_exporter": "python",
   "pygments_lexer": "ipython3",
   "version": "3.9.12"
  }
 },
 "nbformat": 4,
 "nbformat_minor": 5
}
